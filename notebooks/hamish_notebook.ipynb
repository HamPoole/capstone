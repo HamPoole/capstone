{
 "cells": [
  {
   "cell_type": "code",
   "execution_count": 28,
   "metadata": {
    "collapsed": true
   },
   "outputs": [
    {
     "name": "stdout",
     "output_type": "stream",
     "text": [
      "123213213\n"
     ]
    }
   ],
   "source": [
    "#first do a pip install --upgrade dtale\n",
    "from sklearn.metrics.pairwise import cosine_similarity\n",
    "from sklearn.cluster import DBSCAN\n",
    "import datetime\n",
    "#from sklearn.metrics.pairwise import cosine\n",
    "import dtale \n",
    "\n",
    "import pandas as pd\n",
    "\n",
    "import numpy as np \n",
    "\n",
    "print(123213213)"
   ]
  },
  {
   "cell_type": "code",
   "execution_count": 29,
   "metadata": {
    "pycharm": {
     "name": "#%%\n"
    }
   },
   "outputs": [
    {
     "data": {
      "text/plain": "<IPython.lib.display.IFrame at 0x7efbace307d0>",
      "text/html": "\n        <iframe\n            width=\"100%\"\n            height=\"475\"\n            src=\"http://hamish-pc:40000/dtale/iframe/3\"\n            frameborder=\"0\"\n            allowfullscreen\n        ></iframe>\n        "
     },
     "metadata": {},
     "output_type": "display_data"
    },
    {
     "name": "stdout",
     "output_type": "stream",
     "text": [
      "Index([                   'ï',                    '»',                    '¿',\n",
      "                         '''',             'proyecto',               'hombre',\n",
      "                         '30',                'years',                   'of',\n",
      "                       'work',\n",
      "       ...\n",
      "                       'sccm',              'li2zno2',           'micro-film',\n",
      "                       '5737', 'magneto-photocurrent',                 '1.90',\n",
      "            'ceramic-polymer',         'tape-casting',            'disc-type',\n",
      "          'multilayered-type'],\n",
      "      dtype='object', length=49351)\n",
      "Index(['0', '1', '2', '3', '4', '5', '6', '7', '8', '9', '10', '11', '12',\n",
      "       '13', '14', '15', '16', '17', '18', '19', '20', '21', '22', '23', '24',\n",
      "       '25', '26', '27', '28', '29', '30', '31', '32', '33', '34', '35', '36',\n",
      "       '37', '38', '39', '40', '41', '42', '43', '44', '45', '46', '47', '48',\n",
      "       '49', '50', '51', '52', '53', '54', '55', '56', '57', '58', '59', '60',\n",
      "       '61', '62', '63', '64', '65', '66', '67', '68', '69', '70', '71', '72',\n",
      "       '73', '74', '75', '76', '77', '78', '79', '80', '81', '82', '83', '84',\n",
      "       '85', '86', '87', '88', '89', '90', '91', '92', '93', '94', '95', '96',\n",
      "       '97', '98', '99'],\n",
      "      dtype='object')\n"
     ]
    }
   ],
   "source": [
    "vector_df = pd.read_csv('/home/hamish/Downloads/word_vectors.csv', index_col=0)\n",
    "\n",
    "#print(vector_df.head(5))\n",
    "\n",
    "dtale.show(vector_df, ignore_duplicate=True,notebook=True,name='dtale' )\n",
    "print(vector_df.index)\n",
    "print(vector_df.columns)"
   ]
  },
  {
   "cell_type": "code",
   "execution_count": 30,
   "metadata": {
    "pycharm": {
     "name": "#%%\n"
    }
   },
   "outputs": [
    {
     "data": {
      "text/plain": "                  0         1         2         3         4         5  \\\ncentered  -0.092329  0.005541 -0.113707  0.017250 -0.005453 -0.034415   \non        -0.371507  0.384083 -0.876785 -0.434081 -2.388375  1.159470   \npeople    -0.668514  0.197382 -0.641148 -0.204562  0.051494  0.091291   \ndifferent -0.355999  0.330360 -0.827512  1.027335  0.645764  0.463074   \nprograms  -0.486031  0.394756 -0.335051  0.254660 -0.178778  0.024211   \n\n                  6         7         8         9  ...        90        91  \\\ncentered   0.020765  0.044244  0.064135 -0.015878  ...  0.012496 -0.043529   \non        -0.186114 -0.652831  2.253795  0.487682  ...  0.620909  1.267021   \npeople     0.274788  0.516172  0.064997 -0.602290  ... -0.111907  0.005058   \ndifferent  0.689736  0.251867  0.428292  0.231917  ... -0.146643  0.119450   \nprograms  -0.074525  0.010179 -0.059291 -0.406921  ... -0.158653 -0.158799   \n\n                 92        93        94        95        96        97  \\\ncentered   0.000243  0.035368  0.067228  0.009794  0.023553 -0.121172   \non        -2.225380 -2.358026 -0.266152  1.464487 -1.106128 -0.897088   \npeople    -0.492914  0.677600  0.667808  0.012994  0.616710 -1.111098   \ndifferent -0.340149  1.075965  0.873816  1.299771  0.736995 -0.540555   \nprograms  -0.442219  0.420087  0.182723  0.185764  0.210203 -0.946251   \n\n                 98        99  \ncentered   0.017855 -0.052470  \non        -0.028075  0.413355  \npeople     0.562153 -0.485703  \ndifferent  0.072475  1.154612  \nprograms   0.384840 -0.048117  \n\n[5 rows x 100 columns]",
      "text/html": "<div>\n<style scoped>\n    .dataframe tbody tr th:only-of-type {\n        vertical-align: middle;\n    }\n\n    .dataframe tbody tr th {\n        vertical-align: top;\n    }\n\n    .dataframe thead th {\n        text-align: right;\n    }\n</style>\n<table border=\"1\" class=\"dataframe\">\n  <thead>\n    <tr style=\"text-align: right;\">\n      <th></th>\n      <th>0</th>\n      <th>1</th>\n      <th>2</th>\n      <th>3</th>\n      <th>4</th>\n      <th>5</th>\n      <th>6</th>\n      <th>7</th>\n      <th>8</th>\n      <th>9</th>\n      <th>...</th>\n      <th>90</th>\n      <th>91</th>\n      <th>92</th>\n      <th>93</th>\n      <th>94</th>\n      <th>95</th>\n      <th>96</th>\n      <th>97</th>\n      <th>98</th>\n      <th>99</th>\n    </tr>\n  </thead>\n  <tbody>\n    <tr>\n      <th>centered</th>\n      <td>-0.092329</td>\n      <td>0.005541</td>\n      <td>-0.113707</td>\n      <td>0.017250</td>\n      <td>-0.005453</td>\n      <td>-0.034415</td>\n      <td>0.020765</td>\n      <td>0.044244</td>\n      <td>0.064135</td>\n      <td>-0.015878</td>\n      <td>...</td>\n      <td>0.012496</td>\n      <td>-0.043529</td>\n      <td>0.000243</td>\n      <td>0.035368</td>\n      <td>0.067228</td>\n      <td>0.009794</td>\n      <td>0.023553</td>\n      <td>-0.121172</td>\n      <td>0.017855</td>\n      <td>-0.052470</td>\n    </tr>\n    <tr>\n      <th>on</th>\n      <td>-0.371507</td>\n      <td>0.384083</td>\n      <td>-0.876785</td>\n      <td>-0.434081</td>\n      <td>-2.388375</td>\n      <td>1.159470</td>\n      <td>-0.186114</td>\n      <td>-0.652831</td>\n      <td>2.253795</td>\n      <td>0.487682</td>\n      <td>...</td>\n      <td>0.620909</td>\n      <td>1.267021</td>\n      <td>-2.225380</td>\n      <td>-2.358026</td>\n      <td>-0.266152</td>\n      <td>1.464487</td>\n      <td>-1.106128</td>\n      <td>-0.897088</td>\n      <td>-0.028075</td>\n      <td>0.413355</td>\n    </tr>\n    <tr>\n      <th>people</th>\n      <td>-0.668514</td>\n      <td>0.197382</td>\n      <td>-0.641148</td>\n      <td>-0.204562</td>\n      <td>0.051494</td>\n      <td>0.091291</td>\n      <td>0.274788</td>\n      <td>0.516172</td>\n      <td>0.064997</td>\n      <td>-0.602290</td>\n      <td>...</td>\n      <td>-0.111907</td>\n      <td>0.005058</td>\n      <td>-0.492914</td>\n      <td>0.677600</td>\n      <td>0.667808</td>\n      <td>0.012994</td>\n      <td>0.616710</td>\n      <td>-1.111098</td>\n      <td>0.562153</td>\n      <td>-0.485703</td>\n    </tr>\n    <tr>\n      <th>different</th>\n      <td>-0.355999</td>\n      <td>0.330360</td>\n      <td>-0.827512</td>\n      <td>1.027335</td>\n      <td>0.645764</td>\n      <td>0.463074</td>\n      <td>0.689736</td>\n      <td>0.251867</td>\n      <td>0.428292</td>\n      <td>0.231917</td>\n      <td>...</td>\n      <td>-0.146643</td>\n      <td>0.119450</td>\n      <td>-0.340149</td>\n      <td>1.075965</td>\n      <td>0.873816</td>\n      <td>1.299771</td>\n      <td>0.736995</td>\n      <td>-0.540555</td>\n      <td>0.072475</td>\n      <td>1.154612</td>\n    </tr>\n    <tr>\n      <th>programs</th>\n      <td>-0.486031</td>\n      <td>0.394756</td>\n      <td>-0.335051</td>\n      <td>0.254660</td>\n      <td>-0.178778</td>\n      <td>0.024211</td>\n      <td>-0.074525</td>\n      <td>0.010179</td>\n      <td>-0.059291</td>\n      <td>-0.406921</td>\n      <td>...</td>\n      <td>-0.158653</td>\n      <td>-0.158799</td>\n      <td>-0.442219</td>\n      <td>0.420087</td>\n      <td>0.182723</td>\n      <td>0.185764</td>\n      <td>0.210203</td>\n      <td>-0.946251</td>\n      <td>0.384840</td>\n      <td>-0.048117</td>\n    </tr>\n  </tbody>\n</table>\n<p>5 rows × 100 columns</p>\n</div>"
     },
     "execution_count": 30,
     "metadata": {},
     "output_type": "execute_result"
    }
   ],
   "source": [
    "#Quick Refresher on how to select stuff in Pandas\n",
    "#iloc selects by number, use numbers here.  You can refer to them by the row number and slice like numpy arrays\n",
    "#loc selects by label\n",
    "#here we want to use both to select the rows by the names \n",
    "\n",
    "sliced_df = vector_df.iloc[40:50]\n",
    "\n",
    "sliced_df.head()\n",
    "\n",
    "# loc_df = sliced_df.loc['parallel']\n",
    "# #note multiple row names are not accepted\n",
    "# loc_df.head()"
   ]
  },
  {
   "cell_type": "code",
   "execution_count": 31,
   "metadata": {
    "pycharm": {
     "name": "#%%\n"
    }
   },
   "outputs": [
    {
     "name": "stdout",
     "output_type": "stream",
     "text": [
      "0.17434067782207863\n"
     ]
    }
   ],
   "source": [
    "#similarity for 2 vectors\n",
    "from scipy import spatial\n",
    "\n",
    "results = 1 - spatial.distance.cosine(sliced_df.iloc[0],sliced_df.iloc[1])\n",
    "print(results)\n",
    "#similarity.type()"
   ]
  },
  {
   "cell_type": "code",
   "execution_count": 32,
   "metadata": {
    "pycharm": {
     "name": "#%%\n"
    }
   },
   "outputs": [
    {
     "name": "stdout",
     "output_type": "stream",
     "text": [
      "[[1.         0.17434068 0.70080227 0.50304445 0.68795821 0.67313674\n",
      "  0.72912331 0.54338407 0.87028492 0.56335993]\n",
      " [0.17434068 1.         0.23429992 0.29307497 0.27622225 0.12853611\n",
      "  0.21715924 0.38840831 0.272031   0.2522544 ]\n",
      " [0.70080227 0.23429992 1.         0.61176072 0.86204294 0.74442949\n",
      "  0.80538972 0.74507698 0.81657878 0.66447587]\n",
      " [0.50304445 0.29307497 0.61176072 1.         0.60677726 0.52926507\n",
      "  0.33058692 0.5481527  0.49998627 0.42037529]\n",
      " [0.68795821 0.27622225 0.86204294 0.60677726 1.         0.81681459\n",
      "  0.84109119 0.86434057 0.84607369 0.75252756]\n",
      " [0.67313674 0.12853611 0.74442949 0.52926507 0.81681459 1.\n",
      "  0.75527935 0.68559283 0.77975472 0.66336479]\n",
      " [0.72912331 0.21715924 0.80538972 0.33058692 0.84109119 0.75527935\n",
      "  1.         0.68236691 0.91539038 0.52679295]\n",
      " [0.54338407 0.38840831 0.74507698 0.5481527  0.86434057 0.68559283\n",
      "  0.68236691 1.         0.63994603 0.64049677]\n",
      " [0.87028492 0.272031   0.81657878 0.49998627 0.84607369 0.77975472\n",
      "  0.91539038 0.63994603 1.         0.626785  ]\n",
      " [0.56335993 0.2522544  0.66447587 0.42037529 0.75252756 0.66336479\n",
      "  0.52679295 0.64049677 0.626785   1.        ]]\n"
     ]
    }
   ],
   "source": [
    "similarity = cosine_similarity(sliced_df)\n",
    "print(similarity)\n",
    "#similarity for all rows"
   ]
  },
  {
   "cell_type": "code",
   "execution_count": 33,
   "metadata": {
    "pycharm": {
     "name": "#%%\n"
    }
   },
   "outputs": [],
   "source": [
    "#addition for two vectors\n",
    "# sum, algorithmic\n",
    "\n",
    "dbscan=DBSCAN(eps=1,min_samples=10)"
   ]
  },
  {
   "cell_type": "code",
   "execution_count": 34,
   "outputs": [
    {
     "name": "stdout",
     "output_type": "stream",
     "text": [
      "0:03:09.300847\n"
     ]
    }
   ],
   "source": [
    "a = datetime.datetime.now()\n",
    "model=dbscan.fit(vector_df)\n",
    "labels=model.labels_\n",
    "\n",
    "b = datetime.datetime.now()\n",
    "print(b-a)"
   ],
   "metadata": {
    "collapsed": false,
    "pycharm": {
     "name": "#%%\n"
    }
   }
  },
  {
   "cell_type": "code",
   "execution_count": 35,
   "outputs": [
    {
     "data": {
      "text/plain": "DBSCAN(algorithm='auto', eps=1, leaf_size=30, metric='euclidean',\n       metric_params=None, min_samples=10, n_jobs=None, p=None)"
     },
     "execution_count": 35,
     "metadata": {},
     "output_type": "execute_result"
    }
   ],
   "source": [
    "from sklearn import metrics\n",
    "\n",
    "sample_cores1=np.zeros_like(labels,dtype=bool)\n",
    "\n",
    "sample_cores2 = sample_cores1\n",
    "\n",
    "sample_cores2[dbscan.core_sample_indices_]=True\n",
    "\n",
    "#$$\n",
    "model\n",
    "a = datetime.datetime.now()\n",
    "b = datetime.datetime.now()\n",
    "print(b-a)\n"
   ],
   "metadata": {
    "collapsed": false,
    "pycharm": {
     "name": "#%%\n"
    }
   }
  }
 ],
 "metadata": {
  "kernelspec": {
   "name": "pycharm-9f241b02",
   "language": "python",
   "display_name": "PyCharm (capstone)"
  },
  "language_info": {
   "codemirror_mode": {
    "name": "ipython",
    "version": 3
   },
   "file_extension": ".py",
   "mimetype": "text/x-python",
   "name": "python",
   "nbconvert_exporter": "python",
   "pygments_lexer": "ipython3",
   "version": "3.7.1"
  }
 },
 "nbformat": 4,
 "nbformat_minor": 1
}