{
 "cells": [
  {
   "cell_type": "code",
   "execution_count": 1,
   "outputs": [],
   "source": [
    "from nltk.corpus import stopwords\n",
    "from nltk.tokenize import word_tokenize\n",
    "from nltk.stem import PorterStemmer\n",
    "from gensim.models import Word2Vec\n",
    "import logging\n",
    "from sklearn.manifold import TSNE\n",
    "import pandas as pd\n",
    "import nltk\n",
    "from sklearn.metrics import silhouette_score\n",
    "from scipy.spatial.distance import cdist\n",
    "import numpy as np\n",
    "import matplotlib.pyplot as plt; plt.rcdefaults()\n",
    "from sklearn.cluster import MeanShift, estimate_bandwidth\n",
    "import matplotlib.pyplot as plt\n",
    "from sklearn.cluster import DBSCAN\n",
    "from sklearn.metrics.cluster import fowlkes_mallows_score\n",
    "from sklearn.cluster import KMeans\n",
    "import matplotlib.pyplot as plt; plt.rcdefaults()\n",
    "import matplotlib.pyplot as plt\n",
    "\n",
    "from utils.utils import compute_gap, preprocessing, extract_tfidf_keywords, jaccard, FM, F1"
   ],
   "metadata": {
    "collapsed": false,
    "pycharm": {
     "name": "#%%\n"
    }
   }
  },
  {
   "cell_type": "code",
   "execution_count": 2,
   "outputs": [],
   "source": [
    "StopWords = set(stopwords.words('english'))\n",
    "porter = PorterStemmer()\n",
    "logging.basicConfig(format='%(asctime)s : %(levelname)s : %(message)s', level=logging.INFO)\n",
    "\n",
    "Raw = [line.strip('\\n') for line in open('/home/hamish/Documents/datasets/1.Raw Input.txt').readlines()]\n",
    "\n",
    "True_cluster= pd.read_excel('/home/hamish/Documents/datasets/5.True Label (Ground Truth).xlsx',header=None)\n",
    "\n",
    "TF02= pd.read_excel('/home/hamish/Documents/datasets/4.TF-IDF Filtered Version.xlsx')"
   ],
   "metadata": {
    "collapsed": false,
    "pycharm": {
     "name": "#%%\n"
    }
   }
  },
  {
   "cell_type": "code",
   "execution_count": 3,
   "outputs": [
    {
     "name": "stderr",
     "output_type": "stream",
     "text": [
      "[nltk_data] Downloading package punkt to /home/hamish/nltk_data...\n",
      "[nltk_data]   Package punkt is already up-to-date!\n"
     ]
    }
   ],
   "source": [
    "nltk.download('punkt')\n",
    "Cleaned_Corpus = [preprocessing(line) for line in Raw]\n",
    "TF_Words = extract_tfidf_keywords(Cleaned_Corpus, 10)\n"
   ],
   "metadata": {
    "collapsed": false,
    "pycharm": {
     "name": "#%%\n"
    }
   }
  },
  {
   "cell_type": "code",
   "execution_count": 4,
   "outputs": [
    {
     "name": "stderr",
     "output_type": "stream",
     "text": [
      "2020-05-20 15:54:06,432 : INFO : collecting all words and their counts\n",
      "2020-05-20 15:54:06,433 : INFO : PROGRESS: at sentence #0, processed 0 words, keeping 0 word types\n",
      "2020-05-20 15:54:06,500 : INFO : collected 44910 word types from a corpus of 528135 raw words and 4770 sentences\n",
      "2020-05-20 15:54:06,500 : INFO : Loading a fresh vocabulary\n",
      "2020-05-20 15:54:06,623 : INFO : effective_min_count=1 retains 44910 unique words (100% of original 44910, drops 0)\n",
      "2020-05-20 15:54:06,623 : INFO : effective_min_count=1 leaves 528135 word corpus (100% of original 528135, drops 0)\n",
      "2020-05-20 15:54:06,730 : INFO : deleting the raw counts dictionary of 44910 items\n",
      "2020-05-20 15:54:06,731 : INFO : sample=0.001 downsamples 12 most-common words\n",
      "2020-05-20 15:54:06,731 : INFO : downsampling leaves estimated 525098 word corpus (99.4% of prior 528135)\n",
      "2020-05-20 15:54:06,807 : INFO : estimated required memory for 44910 words and 100 dimensions: 58383000 bytes\n",
      "2020-05-20 15:54:06,807 : INFO : resetting layer weights\n",
      "2020-05-20 15:54:12,751 : INFO : training model with 15 workers on 44910 vocabulary and 100 features, using sg=0 hs=0 sample=0.001 negative=5 window=5\n",
      "2020-05-20 15:54:13,031 : INFO : worker thread finished; awaiting finish of 14 more threads\n",
      "2020-05-20 15:54:13,033 : INFO : worker thread finished; awaiting finish of 13 more threads\n",
      "2020-05-20 15:54:13,035 : INFO : worker thread finished; awaiting finish of 12 more threads\n",
      "2020-05-20 15:54:13,037 : INFO : worker thread finished; awaiting finish of 11 more threads\n",
      "2020-05-20 15:54:13,049 : INFO : worker thread finished; awaiting finish of 10 more threads\n",
      "2020-05-20 15:54:13,055 : INFO : worker thread finished; awaiting finish of 9 more threads\n",
      "2020-05-20 15:54:13,059 : INFO : worker thread finished; awaiting finish of 8 more threads\n",
      "2020-05-20 15:54:13,062 : INFO : worker thread finished; awaiting finish of 7 more threads\n",
      "2020-05-20 15:54:13,063 : INFO : worker thread finished; awaiting finish of 6 more threads\n",
      "2020-05-20 15:54:13,063 : INFO : worker thread finished; awaiting finish of 5 more threads\n",
      "2020-05-20 15:54:13,066 : INFO : worker thread finished; awaiting finish of 4 more threads\n",
      "2020-05-20 15:54:13,067 : INFO : worker thread finished; awaiting finish of 3 more threads\n",
      "2020-05-20 15:54:13,077 : INFO : worker thread finished; awaiting finish of 2 more threads\n",
      "2020-05-20 15:54:13,078 : INFO : worker thread finished; awaiting finish of 1 more threads\n",
      "2020-05-20 15:54:13,079 : INFO : worker thread finished; awaiting finish of 0 more threads\n",
      "2020-05-20 15:54:13,080 : INFO : EPOCH - 1 : training on 528135 raw words (525225 effective words) took 0.3s, 1634565 effective words/s\n",
      "2020-05-20 15:54:13,350 : INFO : worker thread finished; awaiting finish of 14 more threads\n",
      "2020-05-20 15:54:13,358 : INFO : worker thread finished; awaiting finish of 13 more threads\n",
      "2020-05-20 15:54:13,361 : INFO : worker thread finished; awaiting finish of 12 more threads\n",
      "2020-05-20 15:54:13,362 : INFO : worker thread finished; awaiting finish of 11 more threads\n",
      "2020-05-20 15:54:13,365 : INFO : worker thread finished; awaiting finish of 10 more threads\n",
      "2020-05-20 15:54:13,369 : INFO : worker thread finished; awaiting finish of 9 more threads\n",
      "2020-05-20 15:54:13,369 : INFO : worker thread finished; awaiting finish of 8 more threads\n",
      "2020-05-20 15:54:13,370 : INFO : worker thread finished; awaiting finish of 7 more threads\n",
      "2020-05-20 15:54:13,373 : INFO : worker thread finished; awaiting finish of 6 more threads\n",
      "2020-05-20 15:54:13,380 : INFO : worker thread finished; awaiting finish of 5 more threads\n",
      "2020-05-20 15:54:13,383 : INFO : worker thread finished; awaiting finish of 4 more threads\n",
      "2020-05-20 15:54:13,384 : INFO : worker thread finished; awaiting finish of 3 more threads\n",
      "2020-05-20 15:54:13,385 : INFO : worker thread finished; awaiting finish of 2 more threads\n",
      "2020-05-20 15:54:13,389 : INFO : worker thread finished; awaiting finish of 1 more threads\n",
      "2020-05-20 15:54:13,390 : INFO : worker thread finished; awaiting finish of 0 more threads\n",
      "2020-05-20 15:54:13,390 : INFO : EPOCH - 2 : training on 528135 raw words (525111 effective words) took 0.3s, 1721870 effective words/s\n",
      "2020-05-20 15:54:13,654 : INFO : worker thread finished; awaiting finish of 14 more threads\n",
      "2020-05-20 15:54:13,663 : INFO : worker thread finished; awaiting finish of 13 more threads\n",
      "2020-05-20 15:54:13,665 : INFO : worker thread finished; awaiting finish of 12 more threads\n",
      "2020-05-20 15:54:13,667 : INFO : worker thread finished; awaiting finish of 11 more threads\n",
      "2020-05-20 15:54:13,670 : INFO : worker thread finished; awaiting finish of 10 more threads\n",
      "2020-05-20 15:54:13,681 : INFO : worker thread finished; awaiting finish of 9 more threads\n",
      "2020-05-20 15:54:13,685 : INFO : worker thread finished; awaiting finish of 8 more threads\n",
      "2020-05-20 15:54:13,686 : INFO : worker thread finished; awaiting finish of 7 more threads\n",
      "2020-05-20 15:54:13,688 : INFO : worker thread finished; awaiting finish of 6 more threads\n",
      "2020-05-20 15:54:13,690 : INFO : worker thread finished; awaiting finish of 5 more threads\n",
      "2020-05-20 15:54:13,691 : INFO : worker thread finished; awaiting finish of 4 more threads\n",
      "2020-05-20 15:54:13,696 : INFO : worker thread finished; awaiting finish of 3 more threads\n",
      "2020-05-20 15:54:13,699 : INFO : worker thread finished; awaiting finish of 2 more threads\n",
      "2020-05-20 15:54:13,701 : INFO : worker thread finished; awaiting finish of 1 more threads\n",
      "2020-05-20 15:54:13,702 : INFO : worker thread finished; awaiting finish of 0 more threads\n",
      "2020-05-20 15:54:13,702 : INFO : EPOCH - 3 : training on 528135 raw words (525100 effective words) took 0.3s, 1726780 effective words/s\n",
      "2020-05-20 15:54:13,971 : INFO : worker thread finished; awaiting finish of 14 more threads\n",
      "2020-05-20 15:54:13,974 : INFO : worker thread finished; awaiting finish of 13 more threads\n",
      "2020-05-20 15:54:13,974 : INFO : worker thread finished; awaiting finish of 12 more threads\n",
      "2020-05-20 15:54:13,976 : INFO : worker thread finished; awaiting finish of 11 more threads\n",
      "2020-05-20 15:54:13,976 : INFO : worker thread finished; awaiting finish of 10 more threads\n",
      "2020-05-20 15:54:13,978 : INFO : worker thread finished; awaiting finish of 9 more threads\n",
      "2020-05-20 15:54:13,991 : INFO : worker thread finished; awaiting finish of 8 more threads\n",
      "2020-05-20 15:54:13,993 : INFO : worker thread finished; awaiting finish of 7 more threads\n",
      "2020-05-20 15:54:13,994 : INFO : worker thread finished; awaiting finish of 6 more threads\n",
      "2020-05-20 15:54:13,996 : INFO : worker thread finished; awaiting finish of 5 more threads\n",
      "2020-05-20 15:54:14,001 : INFO : worker thread finished; awaiting finish of 4 more threads\n",
      "2020-05-20 15:54:14,002 : INFO : worker thread finished; awaiting finish of 3 more threads\n",
      "2020-05-20 15:54:14,005 : INFO : worker thread finished; awaiting finish of 2 more threads\n",
      "2020-05-20 15:54:14,007 : INFO : worker thread finished; awaiting finish of 1 more threads\n",
      "2020-05-20 15:54:14,009 : INFO : worker thread finished; awaiting finish of 0 more threads\n",
      "2020-05-20 15:54:14,009 : INFO : EPOCH - 4 : training on 528135 raw words (524975 effective words) took 0.3s, 1757099 effective words/s\n",
      "2020-05-20 15:54:14,270 : INFO : worker thread finished; awaiting finish of 14 more threads\n",
      "2020-05-20 15:54:14,272 : INFO : worker thread finished; awaiting finish of 13 more threads\n",
      "2020-05-20 15:54:14,274 : INFO : worker thread finished; awaiting finish of 12 more threads\n",
      "2020-05-20 15:54:14,275 : INFO : worker thread finished; awaiting finish of 11 more threads\n",
      "2020-05-20 15:54:14,283 : INFO : worker thread finished; awaiting finish of 10 more threads\n",
      "2020-05-20 15:54:14,285 : INFO : worker thread finished; awaiting finish of 9 more threads\n",
      "2020-05-20 15:54:14,286 : INFO : worker thread finished; awaiting finish of 8 more threads\n",
      "2020-05-20 15:54:14,286 : INFO : worker thread finished; awaiting finish of 7 more threads\n",
      "2020-05-20 15:54:14,290 : INFO : worker thread finished; awaiting finish of 6 more threads\n",
      "2020-05-20 15:54:14,291 : INFO : worker thread finished; awaiting finish of 5 more threads\n",
      "2020-05-20 15:54:14,292 : INFO : worker thread finished; awaiting finish of 4 more threads\n",
      "2020-05-20 15:54:14,293 : INFO : worker thread finished; awaiting finish of 3 more threads\n",
      "2020-05-20 15:54:14,297 : INFO : worker thread finished; awaiting finish of 2 more threads\n",
      "2020-05-20 15:54:14,302 : INFO : worker thread finished; awaiting finish of 1 more threads\n",
      "2020-05-20 15:54:14,305 : INFO : worker thread finished; awaiting finish of 0 more threads\n",
      "2020-05-20 15:54:14,306 : INFO : EPOCH - 5 : training on 528135 raw words (525064 effective words) took 0.3s, 1800757 effective words/s\n",
      "2020-05-20 15:54:14,306 : INFO : training on a 2640675 raw words (2625475 effective words) took 1.6s, 1689071 effective words/s\n",
      "/home/hamish/anaconda3/envs/goodenv/lib/python3.7/site-packages/ipykernel_launcher.py:4: DeprecationWarning: Call to deprecated `__getitem__` (Method will be removed in 4.0.0, use self.wv.__getitem__() instead).\n",
      "  after removing the cwd from sys.path.\n",
      "2020-05-20 15:54:14,568 : INFO : collecting all words and their counts\n",
      "2020-05-20 15:54:14,568 : INFO : PROGRESS: at sentence #0, processed 0 words, keeping 0 word types\n",
      "2020-05-20 15:54:14,577 : INFO : collected 20466 word types from a corpus of 47700 raw words and 4770 sentences\n",
      "2020-05-20 15:54:14,577 : INFO : Loading a fresh vocabulary\n",
      "2020-05-20 15:54:14,661 : INFO : effective_min_count=1 retains 20466 unique words (100% of original 20466, drops 0)\n",
      "2020-05-20 15:54:14,662 : INFO : effective_min_count=1 leaves 47700 word corpus (100% of original 47700, drops 0)\n",
      "2020-05-20 15:54:14,704 : INFO : deleting the raw counts dictionary of 20466 items\n",
      "2020-05-20 15:54:14,705 : INFO : sample=0.001 downsamples 0 most-common words\n",
      "2020-05-20 15:54:14,706 : INFO : downsampling leaves estimated 47700 word corpus (100.0% of prior 47700)\n",
      "2020-05-20 15:54:14,730 : INFO : estimated required memory for 20466 words and 100 dimensions: 26605800 bytes\n",
      "2020-05-20 15:54:14,730 : INFO : resetting layer weights\n",
      "2020-05-20 15:54:17,478 : INFO : training model with 3 workers on 20466 vocabulary and 100 features, using sg=0 hs=0 sample=0.001 negative=5 window=5\n",
      "2020-05-20 15:54:17,517 : INFO : worker thread finished; awaiting finish of 2 more threads\n",
      "2020-05-20 15:54:17,531 : INFO : worker thread finished; awaiting finish of 1 more threads\n",
      "2020-05-20 15:54:17,532 : INFO : worker thread finished; awaiting finish of 0 more threads\n",
      "2020-05-20 15:54:17,533 : INFO : EPOCH - 1 : training on 47700 raw words (47700 effective words) took 0.1s, 942329 effective words/s\n",
      "2020-05-20 15:54:17,576 : INFO : worker thread finished; awaiting finish of 2 more threads\n",
      "2020-05-20 15:54:17,578 : INFO : worker thread finished; awaiting finish of 1 more threads\n",
      "2020-05-20 15:54:17,585 : INFO : worker thread finished; awaiting finish of 0 more threads\n",
      "2020-05-20 15:54:17,586 : INFO : EPOCH - 2 : training on 47700 raw words (47700 effective words) took 0.0s, 969575 effective words/s\n",
      "2020-05-20 15:54:17,626 : INFO : worker thread finished; awaiting finish of 2 more threads\n",
      "2020-05-20 15:54:17,635 : INFO : worker thread finished; awaiting finish of 1 more threads\n",
      "2020-05-20 15:54:17,637 : INFO : worker thread finished; awaiting finish of 0 more threads\n",
      "2020-05-20 15:54:17,637 : INFO : EPOCH - 3 : training on 47700 raw words (47700 effective words) took 0.0s, 1060246 effective words/s\n",
      "2020-05-20 15:54:17,676 : INFO : worker thread finished; awaiting finish of 2 more threads\n",
      "2020-05-20 15:54:17,682 : INFO : worker thread finished; awaiting finish of 1 more threads\n",
      "2020-05-20 15:54:17,689 : INFO : worker thread finished; awaiting finish of 0 more threads\n",
      "2020-05-20 15:54:17,690 : INFO : EPOCH - 4 : training on 47700 raw words (47700 effective words) took 0.0s, 991007 effective words/s\n",
      "2020-05-20 15:54:17,735 : INFO : worker thread finished; awaiting finish of 2 more threads\n",
      "2020-05-20 15:54:17,742 : INFO : worker thread finished; awaiting finish of 1 more threads\n",
      "2020-05-20 15:54:17,744 : INFO : worker thread finished; awaiting finish of 0 more threads\n",
      "2020-05-20 15:54:17,744 : INFO : EPOCH - 5 : training on 47700 raw words (47700 effective words) took 0.0s, 972033 effective words/s\n",
      "2020-05-20 15:54:17,745 : INFO : training on a 238500 raw words (238500 effective words) took 0.3s, 895592 effective words/s\n",
      "2020-05-20 15:54:17,746 : WARNING : under 10 jobs per worker: consider setting a smaller `batch_words' for smoother alpha decay\n"
     ]
    }
   ],
   "source": [
    "model = Word2Vec([word_tokenize(line) for line in Cleaned_Corpus], size=100, window=5, min_count=1, workers=15)\n",
    "doc_vec = []\n",
    "for f in TF_Words:\n",
    "    doc_vec.append(np.mean(model[f], axis=0))\n",
    "X = pd.DataFrame(doc_vec)\n",
    "CBOW_model = Word2Vec(TF_Words, min_count=1,size=100)"
   ],
   "metadata": {
    "collapsed": false,
    "pycharm": {
     "name": "#%%\n"
    }
   }
  },
  {
   "cell_type": "code",
   "execution_count": 5,
   "outputs": [],
   "source": [
    "db = DBSCAN(eps=0.1, min_samples=5).fit(X)\n",
    "\n",
    "core_samples_mask = np.zeros_like(db.labels_, dtype=bool)\n",
    "core_samples_mask[db.core_sample_indices_] = True\n",
    "labels = db.labels_"
   ],
   "metadata": {
    "collapsed": false,
    "pycharm": {
     "name": "#%%\n"
    }
   }
  },
  {
   "cell_type": "code",
   "execution_count": 6,
   "outputs": [
    {
     "data": {
      "text/plain": "{-1: 2303,\n 0: 2283,\n 1: 6,\n 2: 7,\n 3: 20,\n 4: 13,\n 5: 6,\n 6: 11,\n 7: 5,\n 8: 8,\n 9: 8,\n 10: 10,\n 11: 20,\n 12: 11,\n 13: 5,\n 14: 5,\n 15: 5,\n 16: 7,\n 17: 8,\n 18: 4,\n 19: 5,\n 20: 6,\n 21: 9,\n 22: 5}"
     },
     "execution_count": 6,
     "metadata": {},
     "output_type": "execute_result"
    }
   ],
   "source": [
    "unique, counts = np.unique(labels, return_counts=True)\n",
    "dict(zip(unique, counts))\n",
    "\n",
    "objects = unique\n",
    "y_pos = unique\n",
    "performance =counts\n",
    "\n",
    "plt.bar(objects, performance, align='center', alpha=0.5)\n",
    "plt.xticks(y_pos, objects)\n",
    "plt.ylabel('count')\n",
    "plt.xlabel('clusters')\n",
    "plt.title('DBSCAN clusters distribution')\n",
    "\n",
    "for i in range(len(counts)):\n",
    "    plt.annotate(str(performance[i]), xy=(objects[i],performance[i]))\n",
    "\n",
    "plt.show()"
   ],
   "metadata": {
    "collapsed": false,
    "pycharm": {
     "name": "#%%\n"
    }
   }
  }
 ],
 "metadata": {
  "kernelspec": {
   "name": "pycharm-9f241b02",
   "language": "python",
   "display_name": "PyCharm (capstone)"
  },
  "language_info": {
   "codemirror_mode": {
    "name": "ipython",
    "version": 2
   },
   "file_extension": ".py",
   "mimetype": "text/x-python",
   "name": "python",
   "nbconvert_exporter": "python",
   "pygments_lexer": "ipython2",
   "version": "2.7.6"
  }
 },
 "nbformat": 4,
 "nbformat_minor": 0
}