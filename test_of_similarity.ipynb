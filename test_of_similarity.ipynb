{
 "cells": [
  {
   "cell_type": "code",
   "execution_count": 1,
   "metadata": {
    "collapsed": true,
    "pycharm": {
     "is_executing": false
    }
   },
   "outputs": [],
   "source": [
    "import pandas as pd\n",
    "from sklearn.metrics.pairwise import cosine_similarity"
   ]
  },
  {
   "cell_type": "code",
   "execution_count": 2,
   "outputs": [
    {
     "data": {
      "text/plain": "                 0         1         2         3         4         5  \\\nï        -0.014292  0.007838 -0.002896  0.007041  0.009640  0.000983   \n»        -0.019124  0.004895  0.000261 -0.002996  0.004262  0.007593   \n¿        -0.015925  0.008959  0.012728  0.001627  0.009002 -0.009196   \n''        0.242879 -0.357776 -1.036951  0.469952 -1.611660 -0.920393   \nproyecto  0.006645  0.002655 -0.002004  0.011898  0.009993 -0.003337   \n\n                 6         7         8         9  ...        90        91  \\\nï         0.005310  0.001771  0.005891  0.012021  ... -0.001305 -0.001553   \n»        -0.008057  0.016138  0.009148  0.013248  ... -0.004555  0.008343   \n¿         0.000113  0.014790  0.001011  0.016847  ...  0.005379 -0.000023   \n''       -1.047843  0.812955  0.077639  0.406976  ...  0.014267 -0.450508   \nproyecto -0.017918  0.001710  0.001841  0.021023  ...  0.001581  0.004362   \n\n                92        93        94        95        96        97  \\\nï        -0.014225  0.002071 -0.023745 -0.005997 -0.003445 -0.024899   \n»        -0.014806 -0.012592 -0.020747 -0.007772  0.000497 -0.021847   \n¿        -0.007696 -0.004017 -0.019730 -0.013710  0.004691 -0.028078   \n''       -0.778890  0.135372  0.134435 -0.894964  0.506059 -1.636131   \nproyecto -0.014756 -0.015226 -0.023745 -0.009586 -0.014421 -0.004782   \n\n                98        99  \nï         0.017323 -0.002442  \n»         0.021408 -0.009102  \n¿         0.021047  0.000338  \n''        1.420139 -1.053915  \nproyecto  0.034854  0.013337  \n\n[5 rows x 100 columns]",
      "text/html": "<div>\n<style scoped>\n    .dataframe tbody tr th:only-of-type {\n        vertical-align: middle;\n    }\n\n    .dataframe tbody tr th {\n        vertical-align: top;\n    }\n\n    .dataframe thead th {\n        text-align: right;\n    }\n</style>\n<table border=\"1\" class=\"dataframe\">\n  <thead>\n    <tr style=\"text-align: right;\">\n      <th></th>\n      <th>0</th>\n      <th>1</th>\n      <th>2</th>\n      <th>3</th>\n      <th>4</th>\n      <th>5</th>\n      <th>6</th>\n      <th>7</th>\n      <th>8</th>\n      <th>9</th>\n      <th>...</th>\n      <th>90</th>\n      <th>91</th>\n      <th>92</th>\n      <th>93</th>\n      <th>94</th>\n      <th>95</th>\n      <th>96</th>\n      <th>97</th>\n      <th>98</th>\n      <th>99</th>\n    </tr>\n  </thead>\n  <tbody>\n    <tr>\n      <th>ï</th>\n      <td>-0.014292</td>\n      <td>0.007838</td>\n      <td>-0.002896</td>\n      <td>0.007041</td>\n      <td>0.009640</td>\n      <td>0.000983</td>\n      <td>0.005310</td>\n      <td>0.001771</td>\n      <td>0.005891</td>\n      <td>0.012021</td>\n      <td>...</td>\n      <td>-0.001305</td>\n      <td>-0.001553</td>\n      <td>-0.014225</td>\n      <td>0.002071</td>\n      <td>-0.023745</td>\n      <td>-0.005997</td>\n      <td>-0.003445</td>\n      <td>-0.024899</td>\n      <td>0.017323</td>\n      <td>-0.002442</td>\n    </tr>\n    <tr>\n      <th>»</th>\n      <td>-0.019124</td>\n      <td>0.004895</td>\n      <td>0.000261</td>\n      <td>-0.002996</td>\n      <td>0.004262</td>\n      <td>0.007593</td>\n      <td>-0.008057</td>\n      <td>0.016138</td>\n      <td>0.009148</td>\n      <td>0.013248</td>\n      <td>...</td>\n      <td>-0.004555</td>\n      <td>0.008343</td>\n      <td>-0.014806</td>\n      <td>-0.012592</td>\n      <td>-0.020747</td>\n      <td>-0.007772</td>\n      <td>0.000497</td>\n      <td>-0.021847</td>\n      <td>0.021408</td>\n      <td>-0.009102</td>\n    </tr>\n    <tr>\n      <th>¿</th>\n      <td>-0.015925</td>\n      <td>0.008959</td>\n      <td>0.012728</td>\n      <td>0.001627</td>\n      <td>0.009002</td>\n      <td>-0.009196</td>\n      <td>0.000113</td>\n      <td>0.014790</td>\n      <td>0.001011</td>\n      <td>0.016847</td>\n      <td>...</td>\n      <td>0.005379</td>\n      <td>-0.000023</td>\n      <td>-0.007696</td>\n      <td>-0.004017</td>\n      <td>-0.019730</td>\n      <td>-0.013710</td>\n      <td>0.004691</td>\n      <td>-0.028078</td>\n      <td>0.021047</td>\n      <td>0.000338</td>\n    </tr>\n    <tr>\n      <th>''</th>\n      <td>0.242879</td>\n      <td>-0.357776</td>\n      <td>-1.036951</td>\n      <td>0.469952</td>\n      <td>-1.611660</td>\n      <td>-0.920393</td>\n      <td>-1.047843</td>\n      <td>0.812955</td>\n      <td>0.077639</td>\n      <td>0.406976</td>\n      <td>...</td>\n      <td>0.014267</td>\n      <td>-0.450508</td>\n      <td>-0.778890</td>\n      <td>0.135372</td>\n      <td>0.134435</td>\n      <td>-0.894964</td>\n      <td>0.506059</td>\n      <td>-1.636131</td>\n      <td>1.420139</td>\n      <td>-1.053915</td>\n    </tr>\n    <tr>\n      <th>proyecto</th>\n      <td>0.006645</td>\n      <td>0.002655</td>\n      <td>-0.002004</td>\n      <td>0.011898</td>\n      <td>0.009993</td>\n      <td>-0.003337</td>\n      <td>-0.017918</td>\n      <td>0.001710</td>\n      <td>0.001841</td>\n      <td>0.021023</td>\n      <td>...</td>\n      <td>0.001581</td>\n      <td>0.004362</td>\n      <td>-0.014756</td>\n      <td>-0.015226</td>\n      <td>-0.023745</td>\n      <td>-0.009586</td>\n      <td>-0.014421</td>\n      <td>-0.004782</td>\n      <td>0.034854</td>\n      <td>0.013337</td>\n    </tr>\n  </tbody>\n</table>\n<p>5 rows × 100 columns</p>\n</div>"
     },
     "metadata": {},
     "output_type": "execute_result",
     "execution_count": 2
    }
   ],
   "source": [
    "vector_df = pd.read_csv('/home/hamish/Downloads/word_vectors.csv', index_col=0 )\n",
    "\n",
    "vector_df.head()"
   ],
   "metadata": {
    "collapsed": false,
    "pycharm": {
     "name": "#%%\n",
     "is_executing": false
    }
   }
  },
  {
   "cell_type": "code",
   "execution_count": 4,
   "outputs": [
    {
     "name": "stdout",
     "text": [
      "[[1.         0.87995355 0.88515484 ... 0.7508843  0.72637595 0.79651789]\n",
      " [0.87995355 1.         0.8442184  ... 0.73819506 0.72731827 0.77602114]\n",
      " [0.88515484 0.8442184  1.         ... 0.75335581 0.72131693 0.77981013]\n",
      " ...\n",
      " [0.7508843  0.73819506 0.75335581 ... 1.         0.92937995 0.9282302 ]\n",
      " [0.72637595 0.72731827 0.72131693 ... 0.92937995 1.         0.96511995]\n",
      " [0.79651789 0.77602114 0.77981013 ... 0.9282302  0.96511995 1.        ]]\n"
     ],
     "output_type": "stream"
    }
   ],
   "source": [
    "\n",
    "similarity = cosine_similarity(vector_df)\n",
    "\n",
    "print(similarity)"
   ],
   "metadata": {
    "collapsed": false,
    "pycharm": {
     "name": "#%%\n",
     "is_executing": false
    }
   }
  }
 ],
 "metadata": {
  "kernelspec": {
   "name": "pycharm-9f241b02",
   "language": "python",
   "display_name": "PyCharm (capstone)"
  },
  "language_info": {
   "codemirror_mode": {
    "name": "ipython",
    "version": 2
   },
   "file_extension": ".py",
   "mimetype": "text/x-python",
   "name": "python",
   "nbconvert_exporter": "python",
   "pygments_lexer": "ipython2",
   "version": "2.7.6"
  },
  "pycharm": {
   "stem_cell": {
    "cell_type": "raw",
    "source": [],
    "metadata": {
     "collapsed": false
    }
   }
  }
 },
 "nbformat": 4,
 "nbformat_minor": 0
}