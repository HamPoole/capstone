{
 "cells": [
  {
   "cell_type": "code",
   "execution_count": 3,
   "metadata": {
    "collapsed": true,
    "pycharm": {
     "is_executing": false
    }
   },
   "outputs": [
    {
     "name": "stdout",
     "text": [
      "123213213\n"
     ],
     "output_type": "stream"
    }
   ],
   "source": [
    "from sklearn.metrics.pairwise import cosine_similarity\n",
    "\n",
    "import pandas as pd\n",
    "\n",
    "import numpy as np \n",
    "\n",
    "print(123213213)"
   ]
  },
  {
   "cell_type": "code",
   "execution_count": 4,
   "outputs": [
    {
     "name": "stdout",
     "text": [
      "                 0         1         2         3         4         5  \\\n",
      "ï        -0.014292  0.007838 -0.002896  0.007041  0.009640  0.000983   \n",
      "»        -0.019124  0.004895  0.000261 -0.002996  0.004262  0.007593   \n",
      "¿        -0.015925  0.008959  0.012728  0.001627  0.009002 -0.009196   \n",
      "''        0.242879 -0.357776 -1.036951  0.469952 -1.611660 -0.920393   \n",
      "proyecto  0.006645  0.002655 -0.002004  0.011898  0.009993 -0.003337   \n",
      "\n",
      "                 6         7         8         9  ...        90        91  \\\n",
      "ï         0.005310  0.001771  0.005891  0.012021  ... -0.001305 -0.001553   \n",
      "»        -0.008057  0.016138  0.009148  0.013248  ... -0.004555  0.008343   \n",
      "¿         0.000113  0.014790  0.001011  0.016847  ...  0.005379 -0.000023   \n",
      "''       -1.047843  0.812955  0.077639  0.406976  ...  0.014267 -0.450508   \n",
      "proyecto -0.017918  0.001710  0.001841  0.021023  ...  0.001581  0.004362   \n",
      "\n",
      "                92        93        94        95        96        97  \\\n",
      "ï        -0.014225  0.002071 -0.023745 -0.005997 -0.003445 -0.024899   \n",
      "»        -0.014806 -0.012592 -0.020747 -0.007772  0.000497 -0.021847   \n",
      "¿        -0.007696 -0.004017 -0.019730 -0.013710  0.004691 -0.028078   \n",
      "''       -0.778890  0.135372  0.134435 -0.894964  0.506059 -1.636131   \n",
      "proyecto -0.014756 -0.015226 -0.023745 -0.009586 -0.014421 -0.004782   \n",
      "\n",
      "                98        99  \n",
      "ï         0.017323 -0.002442  \n",
      "»         0.021408 -0.009102  \n",
      "¿         0.021047  0.000338  \n",
      "''        1.420139 -1.053915  \n",
      "proyecto  0.034854  0.013337  \n",
      "\n",
      "[5 rows x 100 columns]\n",
      "1\n"
     ],
     "output_type": "stream"
    }
   ],
   "source": [
    "vector_df = pd.read_csv('/home/hamish/Downloads/word_vectors.csv', index_col=0 )\n",
    "\n",
    "print(vector_df.head())\n",
    "\n",
    "print(1)"
   ],
   "metadata": {
    "collapsed": false,
    "pycharm": {
     "name": "#%%\n",
     "is_executing": false
    }
   }
  },
  {
   "cell_type": "code",
   "execution_count": 5,
   "outputs": [],
   "source": [
    "similarity = cosine_similarity(vector_df.head(5))\n",
    "\n",
    "#similarity.type()"
   ],
   "metadata": {
    "collapsed": false,
    "pycharm": {
     "name": "#%%\n",
     "is_executing": false
    }
   }
  },
  {
   "cell_type": "code",
   "execution_count": 7,
   "outputs": [
    {
     "name": "stdout",
     "text": [
      "[[1.         0.87995355 0.88515484 0.52482921 0.75178471]\n",
      " [0.87995355 1.         0.8442184  0.5153964  0.75806   ]\n",
      " [0.88515484 0.8442184  1.         0.45465187 0.68961359]\n",
      " [0.52482921 0.5153964  0.45465187 1.         0.60301397]\n",
      " [0.75178471 0.75806    0.68961359 0.60301397 1.        ]]\n"
     ],
     "output_type": "stream"
    }
   ],
   "source": [
    "print(similarity)"
   ],
   "metadata": {
    "collapsed": false,
    "pycharm": {
     "name": "#%%\n",
     "is_executing": false
    }
   }
  },
  {
   "cell_type": "code",
   "execution_count": 8,
   "outputs": [
    {
     "name": "stdout",
     "text": [
      "4\n",
      "1\n"
     ],
     "output_type": "stream"
    }
   ],
   "source": [
    "a = 4\n",
    "print(a)\n",
    "print(1)\n",
    "\n"
   ],
   "metadata": {
    "collapsed": false,
    "pycharm": {
     "name": "#%%\n",
     "is_executing": false
    }
   }
  }
 ],
 "metadata": {
  "kernelspec": {
   "name": "pycharm-9f241b02",
   "language": "python",
   "display_name": "PyCharm (capstone)"
  },
  "language_info": {
   "codemirror_mode": {
    "name": "ipython",
    "version": 2
   },
   "file_extension": ".py",
   "mimetype": "text/x-python",
   "name": "python",
   "nbconvert_exporter": "python",
   "pygments_lexer": "ipython2",
   "version": "2.7.6"
  },
  "pycharm": {
   "stem_cell": {
    "cell_type": "raw",
    "source": [],
    "metadata": {
     "collapsed": false
    }
   }
  }
 },
 "nbformat": 4,
 "nbformat_minor": 0
}