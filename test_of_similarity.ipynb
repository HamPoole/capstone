{
 "cells": [
  {
   "cell_type": "code",
   "execution_count": 26,
   "metadata": {
    "collapsed": true,
    "pycharm": {
     "is_executing": false
    }
   },
   "outputs": [
    {
     "name": "stdout",
     "text": [
      "123213213\n"
     ],
     "output_type": "stream"
    }
   ],
   "source": [
    "#first do a pip install --upgrade dtale\n",
    "from sklearn.metrics.pairwise import cosine_similarity\n",
    "#from sklearn.metrics.pairwise import cosine\n",
    "import dtale \n",
    "\n",
    "import pandas as pd\n",
    "\n",
    "import numpy as np \n",
    "\n",
    "print(123213213)"
   ]
  },
  {
   "cell_type": "code",
   "execution_count": 27,
   "outputs": [
    {
     "data": {
      "text/plain": "<IPython.lib.display.IFrame at 0x7efbc72dcf50>",
      "text/html": "\n        <iframe\n            width=\"100%\"\n            height=\"475\"\n            src=\"http://hamish-pc:40000/dtale/iframe/4\"\n            frameborder=\"0\"\n            allowfullscreen\n        ></iframe>\n        "
     },
     "metadata": {},
     "output_type": "display_data"
    },
    {
     "name": "stdout",
     "text": [
      "Index([                   'ï',                    '»',                    '¿',\n",
      "                         '''',             'proyecto',               'hombre',\n",
      "                         '30',                'years',                   'of',\n",
      "                       'work',\n",
      "       ...\n",
      "                       'sccm',              'li2zno2',           'micro-film',\n",
      "                       '5737', 'magneto-photocurrent',                 '1.90',\n",
      "            'ceramic-polymer',         'tape-casting',            'disc-type',\n",
      "          'multilayered-type'],\n",
      "      dtype='object', length=49351)\n",
      "Index(['0', '1', '2', '3', '4', '5', '6', '7', '8', '9', '10', '11', '12',\n",
      "       '13', '14', '15', '16', '17', '18', '19', '20', '21', '22', '23', '24',\n",
      "       '25', '26', '27', '28', '29', '30', '31', '32', '33', '34', '35', '36',\n",
      "       '37', '38', '39', '40', '41', '42', '43', '44', '45', '46', '47', '48',\n",
      "       '49', '50', '51', '52', '53', '54', '55', '56', '57', '58', '59', '60',\n",
      "       '61', '62', '63', '64', '65', '66', '67', '68', '69', '70', '71', '72',\n",
      "       '73', '74', '75', '76', '77', '78', '79', '80', '81', '82', '83', '84',\n",
      "       '85', '86', '87', '88', '89', '90', '91', '92', '93', '94', '95', '96',\n",
      "       '97', '98', '99'],\n",
      "      dtype='object')\n"
     ],
     "output_type": "stream"
    }
   ],
   "source": [
    "vector_df = pd.read_csv('/home/hamish/Downloads/word_vectors.csv', index_col=0)\n",
    "\n",
    "#print(vector_df.head(5))\n",
    "\n",
    "dtale.show(vector_df, ignore_duplicate=True,notebook=True,name='dtale' )\n",
    "print(vector_df.index)\n",
    "print(vector_df.columns)"
   ],
   "metadata": {
    "collapsed": false,
    "pycharm": {
     "name": "#%%\n",
     "is_executing": false
    }
   }
  },
  {
   "cell_type": "code",
   "execution_count": 35,
   "outputs": [
    {
     "traceback": [
      "\u001b[0;31m---------------------------------------------------------------------------\u001b[0m",
      "\u001b[0;31mTypeError\u001b[0m                                 Traceback (most recent call last)",
      "\u001b[0;32m<ipython-input-35-2543b4727721>\u001b[0m in \u001b[0;36m<module>\u001b[0;34m\u001b[0m\n\u001b[1;32m      8\u001b[0m \u001b[0msliced_df\u001b[0m\u001b[0;34m.\u001b[0m\u001b[0mhead\u001b[0m\u001b[0;34m(\u001b[0m\u001b[0;34m)\u001b[0m\u001b[0;34m\u001b[0m\u001b[0;34m\u001b[0m\u001b[0m\n\u001b[1;32m      9\u001b[0m \u001b[0;34m\u001b[0m\u001b[0m\n\u001b[0;32m---> 10\u001b[0;31m \u001b[0mloc_df\u001b[0m \u001b[0;34m=\u001b[0m \u001b[0msliced_df\u001b[0m\u001b[0;34m.\u001b[0m\u001b[0mloc\u001b[0m\u001b[0;34m(\u001b[0m\u001b[0;34m'parallel'\u001b[0m\u001b[0;34m,\u001b[0m\u001b[0;34m'from'\u001b[0m\u001b[0;34m,\u001b[0m\u001b[0;34m'philosophy'\u001b[0m\u001b[0;34m,\u001b[0m\u001b[0;34m'different'\u001b[0m\u001b[0;34m)\u001b[0m\u001b[0;34m\u001b[0m\u001b[0;34m\u001b[0m\u001b[0m\n\u001b[0m\u001b[1;32m     11\u001b[0m \u001b[0;34m\u001b[0m\u001b[0m\n\u001b[1;32m     12\u001b[0m \u001b[0mloc_df\u001b[0m\u001b[0;34m.\u001b[0m\u001b[0mhead\u001b[0m\u001b[0;34m(\u001b[0m\u001b[0;34m)\u001b[0m\u001b[0;34m\u001b[0m\u001b[0;34m\u001b[0m\u001b[0m\n",
      "\u001b[0;31mTypeError\u001b[0m: __call__() takes from 1 to 2 positional arguments but 5 were given"
     ],
     "ename": "TypeError",
     "evalue": "__call__() takes from 1 to 2 positional arguments but 5 were given",
     "output_type": "error"
    }
   ],
   "source": [
    "#Quick Refresher on how to select stuff in Pandas\n",
    "#iloc selects by number, use numbers here.  You can refer to them by the row number and slice like numpy arrays\n",
    "#loc selects by label\n",
    "#here we want to use both to select the rows by the names \n",
    "\n",
    "sliced_df = vector_df.iloc[40:50]\n",
    "\n",
    "sliced_df.head()\n",
    "\n",
    "loc_df = sliced_df.loc('parallel','from')\n",
    "#note multiple row names are not accepted\n",
    "loc_df.head()"
   ],
   "metadata": {
    "collapsed": false,
    "pycharm": {
     "name": "#%%\n",
     "is_executing": false
    }
   }
  },
  {
   "cell_type": "code",
   "execution_count": 38,
   "outputs": [
    {
     "name": "stdout",
     "text": [
      "0.17434067782207863\n"
     ],
     "output_type": "stream"
    }
   ],
   "source": [
    "#similarity for a single vector\n",
    "from scipy import spatial\n",
    "\n",
    "results = 1 - spatial.distance.cosine(sliced_df.iloc[0],sliced_df.iloc[1])\n",
    "print(results)\n",
    "#similarity.type()"
   ],
   "metadata": {
    "collapsed": false,
    "pycharm": {
     "name": "#%%\n",
     "is_executing": false
    }
   }
  },
  {
   "cell_type": "code",
   "execution_count": 40,
   "outputs": [
    {
     "name": "stdout",
     "text": [
      "[[1.         0.17434068 0.70080227 0.50304445 0.68795821 0.67313674\n",
      "  0.72912331 0.54338407 0.87028492 0.56335993]\n",
      " [0.17434068 1.         0.23429992 0.29307497 0.27622225 0.12853611\n",
      "  0.21715924 0.38840831 0.272031   0.2522544 ]\n",
      " [0.70080227 0.23429992 1.         0.61176072 0.86204294 0.74442949\n",
      "  0.80538972 0.74507698 0.81657878 0.66447587]\n",
      " [0.50304445 0.29307497 0.61176072 1.         0.60677726 0.52926507\n",
      "  0.33058692 0.5481527  0.49998627 0.42037529]\n",
      " [0.68795821 0.27622225 0.86204294 0.60677726 1.         0.81681459\n",
      "  0.84109119 0.86434057 0.84607369 0.75252756]\n",
      " [0.67313674 0.12853611 0.74442949 0.52926507 0.81681459 1.\n",
      "  0.75527935 0.68559283 0.77975472 0.66336479]\n",
      " [0.72912331 0.21715924 0.80538972 0.33058692 0.84109119 0.75527935\n",
      "  1.         0.68236691 0.91539038 0.52679295]\n",
      " [0.54338407 0.38840831 0.74507698 0.5481527  0.86434057 0.68559283\n",
      "  0.68236691 1.         0.63994603 0.64049677]\n",
      " [0.87028492 0.272031   0.81657878 0.49998627 0.84607369 0.77975472\n",
      "  0.91539038 0.63994603 1.         0.626785  ]\n",
      " [0.56335993 0.2522544  0.66447587 0.42037529 0.75252756 0.66336479\n",
      "  0.52679295 0.64049677 0.626785   1.        ]]\n"
     ],
     "output_type": "stream"
    }
   ],
   "source": [
    "similarity = cosine_similarity(sliced_df)\n",
    "print(similarity)\n",
    "#similarity for all rows"
   ],
   "metadata": {
    "collapsed": false,
    "pycharm": {
     "name": "#%%\n",
     "is_executing": false
    }
   }
  },
  {
   "cell_type": "code",
   "execution_count": 31,
   "outputs": [
    {
     "name": "stdout",
     "text": [
      "4\n",
      "1\n"
     ],
     "output_type": "stream"
    }
   ],
   "source": [
    "a = 4\n",
    "print(a)\n",
    "print(1)\n",
    "\n"
   ],
   "metadata": {
    "collapsed": false,
    "pycharm": {
     "name": "#%%\n",
     "is_executing": false
    }
   }
  }
 ],
 "metadata": {
  "kernelspec": {
   "name": "pycharm-9f241b02",
   "language": "python",
   "display_name": "PyCharm (capstone)"
  },
  "language_info": {
   "codemirror_mode": {
    "name": "ipython",
    "version": 2
   },
   "file_extension": ".py",
   "mimetype": "text/x-python",
   "name": "python",
   "nbconvert_exporter": "python",
   "pygments_lexer": "ipython2",
   "version": "2.7.6"
  },
  "pycharm": {
   "stem_cell": {
    "cell_type": "raw",
    "source": [],
    "metadata": {
     "collapsed": false
    }
   }
  }
 },
 "nbformat": 4,
 "nbformat_minor": 0
}